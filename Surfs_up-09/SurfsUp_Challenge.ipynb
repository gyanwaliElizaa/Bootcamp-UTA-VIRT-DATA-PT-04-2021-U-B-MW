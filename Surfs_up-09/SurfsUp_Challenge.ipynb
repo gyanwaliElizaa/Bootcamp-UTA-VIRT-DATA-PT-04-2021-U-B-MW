In [1]:
# Dependencies
import numpy as np
import pandas as pd

# Python SQL toolkit and Object Relational Mapper
import sqlalchemy
from sqlalchemy.ext.automap import automap_base
from sqlalchemy.orm import Session
from sqlalchemy import create_engine, func
In [2]:
engine = create_engine("sqlite:///hawaii.sqlite")

# reflect an existing database into a new model
Base = automap_base()
# reflect the tables
Base.prepare(engine, reflect=True)

# Save references to each table
Measurement = Base.classes.measurement
Station = Base.classes.station
In [3]:
# Create our session (link) from Python to the DB
session = Session(engine)
D1: Determine the Summary Statistics for June
In [4]:
# 1. Import the sqlalchemy extract function.
from sqlalchemy import extract

#  2. Write a query that filters the Measurement table to retrieve the temperatures for the month of June. 
june_temps = session.query(Measurement).filter(extract('month', Measurement.date) == 6)

#  3. Convert the June and December temperatures to a list. 
june_temps_list = [temp.tobs for temp in june_temps]
In [5]:
# 4. Create a DataFrame from the list of temperatures for the month of June. 
june_df = pd.DataFrame(june_temps_list,columns=['June Temps'])
june_df.head()
Out[5]:
June Temps
0	78.0
1	76.0
2	78.0
3	76.0
4	77.0
In [6]:
# 5. Calculate and print out the summary statistics for the June temperature DataFrame.
june_df.describe()
Out[6]:
June Temps
count	1700.000000
mean	74.944118
std	3.257417
min	64.000000
25%	73.000000
50%	75.000000
75%	77.000000
max	85.000000
D2: Determine the Summary Statistics for December
In [7]:
# 6. Write a query that filters the Measurement table to retrieve the temperatures for the month of December.
dec_temps = session.query(Measurement).filter(extract('month', Measurement.date) == 12)

# 7. Convert the June and December temperatures to a list.
dec_temps_list = [temp.tobs for temp in dec_temps]
In [8]:
# 8. Create a DataFrame from the list of temperatures for the month of December. 
dec_df = pd.DataFrame(dec_temps_list,columns=['December Temps'])
dec_df.head()
Out[8]:
December Temps
0	76.0
1	74.0
2	74.0
3	64.0
4	64.0
In [9]:
# 9 Calculate and print out the summary statistics for the December temperature DataFrame.
dec_df.describe()
Out[9]:
December Temps
count	1517.000000
mean	71.041529
std	3.745920
min	56.000000
25%	69.000000
50%	71.000000
75%	74.000000
max	83.000000
In [ ]:
